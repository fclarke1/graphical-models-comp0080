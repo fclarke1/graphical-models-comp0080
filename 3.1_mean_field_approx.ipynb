{
 "cells": [
  {
   "cell_type": "markdown",
   "metadata": {},
   "source": [
    "### Brute Force approach\n",
    "First we create a brute force approach. This will only work with very small n, but we can use all other approaches on equally small models and see if they create the same result"
   ]
  },
  {
   "cell_type": "code",
   "execution_count": 120,
   "metadata": {},
   "outputs": [],
   "source": [
    "import numpy as np"
   ]
  },
  {
   "cell_type": "code",
   "execution_count": 121,
   "metadata": {},
   "outputs": [],
   "source": [
    "N = 3\n",
    "B = 1"
   ]
  },
  {
   "cell_type": "code",
   "execution_count": 122,
   "metadata": {},
   "outputs": [],
   "source": [
    "def generate_potential(B):\n",
    "    potentials = np.ones((2,2))\n",
    "    potentials[0,0] = np.exp(B)\n",
    "    potentials[1,1] = potentials[0, 0]\n",
    "    return potentials"
   ]
  },
  {
   "cell_type": "code",
   "execution_count": 123,
   "metadata": {},
   "outputs": [],
   "source": [
    "def generate_all_lattice_states(n):\n",
    "    \"\"\"given n, create a (2^(n*n))xnxn ndarray of all states\n",
    "\n",
    "    Args:\n",
    "        n (int): size of the nxn array to calculate all states\n",
    "    \n",
    "    return:\n",
    "        states ((2^(n*n))xnxn): binary array of all states of the nxn array\n",
    "    \"\"\"\n",
    "    # first create a flattened nxn array for each state. This makes it easier to create each state. Then we convert to 2D before returning\n",
    "    states_lattice = np.zeros((pow(2, n*n), n*n)).astype(int)\n",
    "    \n",
    "    for state_index in range(pow(2, n*n)):\n",
    "        # binary representation of the current state\n",
    "        state_binary = bin(state_index)[2:]\n",
    "        \n",
    "        # iterate through the bit representation of the state\n",
    "        for bit_index, bit_value in enumerate(reversed(state_binary)):\n",
    "            states_lattice[state_index, bit_index] = bit_value\n",
    "    \n",
    "    return states_lattice.reshape((-1, n, n))\n",
    "                "
   ]
  },
  {
   "cell_type": "code",
   "execution_count": 124,
   "metadata": {},
   "outputs": [],
   "source": [
    "def generate_lattice_state_from_binary(state_index, n):\n",
    "    \"\"\"given n, create a nxn ndarray of state number \"state\"\n",
    "\n",
    "    Args:\n",
    "        state (int): generate the state \"state\" lattice\n",
    "        n (int): size of the nxn array to calculate all states\n",
    "    \n",
    "    return:\n",
    "        state_lattice (nxn ndarray): binary array of nxn state array\n",
    "    \"\"\"\n",
    "    # first create a flattened nxn array for each state. This makes it easier to create each state. Then we convert to 2D before returning\n",
    "    state_lattice = np.zeros(n*n).astype(int)\n",
    "    \n",
    "    # binary representation of the current state\n",
    "    state_binary = bin(state_index)[2:]\n",
    "    \n",
    "    # iterate through the bit representation of the state\n",
    "    for bit_index, bit_value in enumerate(reversed(state_binary)):\n",
    "        state_lattice[bit_index] = bit_value\n",
    "    \n",
    "    return state_lattice.reshape((1, n, n))"
   ]
  },
  {
   "cell_type": "code",
   "execution_count": 125,
   "metadata": {},
   "outputs": [],
   "source": [
    "def calculate_states_potential(states_lattice, potential):\n",
    "    \"\"\"given a (states)xnxn ndarray of binary states, return the potential of this state\n",
    "\n",
    "    Args:\n",
    "        states_lattice ([states, n,n] binary ndarray): binary nxn array\n",
    "        potential ([2,2] ndarray)\n",
    "    \n",
    "    Return:\n",
    "        state_potential : potential of the state given\n",
    "    \"\"\"\n",
    "    n = states_lattice.shape[1]\n",
    "    state_potential = np.ones(states_lattice.shape[0])\n",
    "    \n",
    "    for state in range(states_lattice.shape[0]):\n",
    "        for row in range(n):\n",
    "            for col in range(n-1):\n",
    "                # Calculate potentials for all neighbouring nodes on same row (left-right)\n",
    "                val_1 = states_lattice[state, row, col]\n",
    "                val_2 = states_lattice[state, row, col+1]\n",
    "                state_potential *= potential[val_1, val_2]\n",
    "                \n",
    "                # calculate potentials for all neighbouring nodes just below selected row in selected column (up-down)\n",
    "                if row != n-1:\n",
    "                    val_1 = states_lattice[state, row, col]\n",
    "                    val_2 = states_lattice[state, row+1, col]\n",
    "                    state_potential *= potential[val_1, val_2]\n",
    "            \n",
    "            # col value doesn't hit the final column in lattice so calculate separately:\n",
    "            if row != n-1:\n",
    "                val_1 = states_lattice[state, row, n-1]\n",
    "                val_2 = states_lattice[state, row+1, n-1]\n",
    "                state_potential *= potential[val_1, val_2]\n",
    "    \n",
    "    return state_potential.sum()"
   ]
  },
  {
   "cell_type": "code",
   "execution_count": 142,
   "metadata": {},
   "outputs": [
    {
     "name": "stdout",
     "output_type": "stream",
     "text": [
      "159957216028.8102\n"
     ]
    }
   ],
   "source": [
    "# define parameters\n",
    "n = 5\n",
    "B = 1\n",
    "Z = 0\n",
    "pot = generate_potential(B)\n",
    "\n",
    "for state_index in range(pow(2, n*n)):\n",
    "    state_lattice = generate_lattice_state_from_binary(state_index, n)\n",
    "    z = calculate_states_potential(state_lattice, pot)\n",
    "    Z += z\n",
    "\n",
    "Z = Z / pow(2,n*n)\n",
    "\n",
    "print(Z)\n",
    "\n"
   ]
  },
  {
   "cell_type": "code",
   "execution_count": 143,
   "metadata": {},
   "outputs": [
    {
     "data": {
      "text/plain": [
       "25.798172216602595"
      ]
     },
     "execution_count": 143,
     "metadata": {},
     "output_type": "execute_result"
    }
   ],
   "source": [
    "np.log(Z)"
   ]
  },
  {
   "cell_type": "code",
   "execution_count": 127,
   "metadata": {},
   "outputs": [],
   "source": [
    "def f_0(y1, potential):\n",
    "    \"\"\"given y of dim n, return the potential of y\n",
    "\n",
    "    Args:\n",
    "        y1 (n-array): n dimensional array (this is the first column in the nxn array)\n",
    "        potential : 2x2 array of potential\n",
    "    \n",
    "    Return:\n",
    "        message: return the message from this factor\n",
    "    \"\"\"\n",
    "    \n",
    "    factor = 1\n",
    "    for row in range(y1.size - 1):\n",
    "        factor *= potential[y1[row], y1[row+1]]\n",
    "    \n",
    "    return factor\n",
    "\n",
    "def f_0_vectorize(column_states, potential):\n",
    "    \"\"\"given an array of all possible column states, return an array of all potentials\n",
    "\n",
    "    Args:\n",
    "        column_states (_type_): _description_\n",
    "        potential (_type_): _description_\n",
    "    \"\"\"\n",
    "    m = column_states.shape[0]\n",
    "    f0 = np.zeros(m)\n",
    "    \n",
    "    for y_i in range(m):\n",
    "        f0[y_i] = f_0(column_states[y_i], potential)\n",
    "    \n",
    "    return f0"
   ]
  },
  {
   "cell_type": "code",
   "execution_count": 132,
   "metadata": {},
   "outputs": [],
   "source": [
    "def f_i(y1, y2, potential):\n",
    "    \"\"\"given column 1 and 2 vectors, calculate the shared potential\n",
    "\n",
    "    Args:\n",
    "        y1 (n-array): column y1, binary array\n",
    "        y2 (n-array): column y2, binary array\n",
    "        potential (2x2 array): potential to be applied to all neighbours\n",
    "    \n",
    "    Return:\n",
    "        message: return the message from y1 and y2\n",
    "    \"\"\"\n",
    "    \n",
    "    factor = 1\n",
    "    \n",
    "    # calculate potentials going down the 2nd column and shared edges between y1 and y2\n",
    "    for row in range(y1.size-1):\n",
    "        factor *= potential[y2[row], y2[row+1]]\n",
    "        factor *= potential[y1[row], y2[row]]\n",
    "    # for loop misses out last row - calculate that outside loop\n",
    "    factor *= potential[y1[-1], y2[-1]]\n",
    "    \n",
    "    return factor\n",
    "\n",
    "def f_i_vectorize(column_states, potential):\n",
    "    \"\"\"given an array of all possible column states, return an array of all potentials\n",
    "\n",
    "    Args:\n",
    "        column_states (_type_): _description_\n",
    "        potential (_type_): _description_\n",
    "    \"\"\"\n",
    "    m = column_states.shape[0]\n",
    "    fi = np.zeros((m,m))\n",
    "    \n",
    "    for y_i in range(m):\n",
    "        for y_j in range(m):\n",
    "            fi[y_i, y_j] = f_i(column_states[y_i], column_states[y_j], potential)\n",
    "    \n",
    "    return fi"
   ]
  },
  {
   "cell_type": "code",
   "execution_count": 129,
   "metadata": {},
   "outputs": [],
   "source": [
    "def generate_column_states(n):\n",
    "    \"\"\"given the dimension n, return an array of all possible states for binary vector n\n",
    "\n",
    "    Args:\n",
    "        n (int): dimension of vector\n",
    "        \n",
    "    Return:\n",
    "        y : binary array of shape 2^n x n\n",
    "    \"\"\"\n",
    "    \n",
    "    y = np.zeros((pow(2, n), n)).astype(int)\n",
    "    \n",
    "    for state_index in range(pow(2, n)):\n",
    "        state_binary = bin(state_index)[2:]\n",
    "    \n",
    "        for bit_index, bit_value in enumerate(reversed(state_binary)):\n",
    "            y[state_index, bit_index] = bit_value\n",
    "    \n",
    "    return y"
   ]
  },
  {
   "cell_type": "code",
   "execution_count": 146,
   "metadata": {},
   "outputs": [
    {
     "name": "stdout",
     "output_type": "stream",
     "text": [
      "2107.3781632042655\n"
     ]
    }
   ],
   "source": [
    "n = 3\n",
    "B = 1\n",
    "column_states = generate_column_states(n)\n",
    "potential = generate_potential(B)\n",
    "\n",
    "m_y1 = 0\n",
    "m_y1_y2 = 0\n",
    "m_y2_y3 = 0\n",
    "\n",
    "for y3 in column_states:\n",
    "    for y2 in column_states:\n",
    "        for y1 in column_states:\n",
    "            m_y1 = f_0(y1, potential)\n",
    "            m_y1_y2 += f_i(y1, y2, potential) * m_y1\n",
    "        m_y2_y3 += f_i(y2, y3, potential) * m_y1_y2\n",
    "        # reset the variables\n",
    "        m_y1_y2 = 0\n",
    "\n",
    "Z = m_y2_y3 / pow(2, (n*n))\n",
    "\n",
    "print(Z)"
   ]
  },
  {
   "cell_type": "markdown",
   "metadata": {},
   "source": [
    "### Fast way to calculate Z\n",
    "Above are 2 different ways to calculate Z, one being just brute force. And they all agree upto 5 (above that it takes too long to calculate)"
   ]
  },
  {
   "cell_type": "code",
   "execution_count": 145,
   "metadata": {},
   "outputs": [
    {
     "name": "stdout",
     "output_type": "stream",
     "text": [
      "2107.3781632042655\n",
      "7.653199877151158\n"
     ]
    }
   ],
   "source": [
    "n = 3\n",
    "B = 1\n",
    "column_states = generate_column_states(n)\n",
    "potential = generate_potential(B)\n",
    "\n",
    "f0 = f_0_vectorize(column_states, potential)\n",
    "fi = f_i_vectorize(column_states, potential)\n",
    "\n",
    "message = f0\n",
    "\n",
    "for col in range(1, n):\n",
    "    message = message @ fi\n",
    "\n",
    "Z = message.sum() / pow(2, (n**2))\n",
    "\n",
    "print(Z)\n",
    "print(np.log(Z))"
   ]
  }
 ],
 "metadata": {
  "kernelspec": {
   "display_name": "Python 3.10.2 64-bit",
   "language": "python",
   "name": "python3"
  },
  "language_info": {
   "codemirror_mode": {
    "name": "ipython",
    "version": 3
   },
   "file_extension": ".py",
   "mimetype": "text/x-python",
   "name": "python",
   "nbconvert_exporter": "python",
   "pygments_lexer": "ipython3",
   "version": "3.10.2"
  },
  "orig_nbformat": 4,
  "vscode": {
   "interpreter": {
    "hash": "39684f6bc4282e93be36b5aac72d637a326ff246e213af181bce240f019ae372"
   }
  }
 },
 "nbformat": 4,
 "nbformat_minor": 2
}
